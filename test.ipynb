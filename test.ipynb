{
 "cells": [
  {
   "cell_type": "code",
   "execution_count": 1,
   "id": "8ec0b1d6",
   "metadata": {},
   "outputs": [],
   "source": [
    "from grammar.generated.SqlBaseLexer import SqlBaseLexer\n",
    "from grammar.generated.SqlBaseParser import SqlBaseParser\n",
    "from grammar.generated.SqlBaseListener import SqlBaseListener"
   ]
  },
  {
   "cell_type": "code",
   "execution_count": 11,
   "id": "4f136c5b",
   "metadata": {},
   "outputs": [],
   "source": [
    "import antlr4\n",
    "from antlr4 import InputStream\n",
    "from antlr4 import RecognitionException\n",
    "\n",
    "from antlr4.error.ErrorListener import ErrorListener\n",
    "from antlr4.error.ErrorStrategy import BailErrorStrategy\n",
    "from antlr4.error.Errors import ParseCancellationException"
   ]
  },
  {
   "cell_type": "code",
   "execution_count": 3,
   "id": "dfec820a",
   "metadata": {},
   "outputs": [],
   "source": [
    "class RemoveIdentifierBackticks(antlr4.ParseTreeListener):\n",
    "    @staticmethod\n",
    "    def exitQuotedIdentifier(ctx):  # pylint: disable=invalid-name,unused-argument\n",
    "        def identity(token):\n",
    "            return token\n",
    "\n",
    "        return identity\n",
    "\n",
    "    @staticmethod\n",
    "    def enterNonReserved(ctx):  # pylint: disable=invalid-name,unused-argument\n",
    "        def add_backtick(token):\n",
    "            return \"`{0}`\".format(token)\n",
    "\n",
    "        return add_backtick\n",
    "\n",
    "\n",
    "class ParseErrorListener(ErrorListener):\n",
    "    def syntaxError(\n",
    "            self, recognizer, offendingSymbol, line, column, msg, e\n",
    "    ):  # pylint: disable=invalid-name,no-self-use,too-many-arguments\n",
    "        raise SqlSyntaxError(\"Parse error\", msg)\n",
    "\n",
    "\n",
    "class UpperCaseCharStream:\n",
    "    \"\"\"\n",
    "    Make SQL token detection case insensitive and allow identifier without\n",
    "    backticks to be seen as e.g. column names\n",
    "    \"\"\"\n",
    "\n",
    "    def __init__(self, wrapped):\n",
    "        self.wrapped = wrapped\n",
    "\n",
    "    def getText(self, interval, *args):  # pylint: disable=invalid-name\n",
    "        if args or (self.size() > 0 and (interval.b - interval.a >= 0)):\n",
    "            return self.wrapped.getText(interval, *args)\n",
    "        return \"\"\n",
    "\n",
    "    def LA(self, i: int):  # pylint: disable=invalid-name\n",
    "        token = self.wrapped.LA(i)\n",
    "        if token in (0, -1):\n",
    "            return token\n",
    "        return ord(chr(token).upper())\n",
    "\n",
    "    def __getattr__(self, item):\n",
    "        return getattr(self.wrapped, item)\n",
    "\n",
    "\n",
    "class ExplicitBailErrorStrategy(BailErrorStrategy):\n",
    "    \"\"\"\n",
    "    Bail Error Strategy throws a ParseCancellationException,\n",
    "    This strategy simply throw a more explicit exception\n",
    "    \"\"\"\n",
    "    def recover(self, recognizer, e: RecognitionException):\n",
    "        try:\n",
    "            super(ExplicitBailErrorStrategy, self).recover(recognizer, e)\n",
    "        except ParseCancellationException:\n",
    "            raise SqlParsingError from e\n",
    "\n",
    "\n",
    "class EarlyBailSqlLexer(SqlBaseLexer):\n",
    "    def recover(self, re: RecognitionException):\n",
    "        raise SqlLexicalError from re\n",
    "\n",
    "\n",
    "def build_parser(stream, strict_mode=False, early_bail=True):\n",
    "    if not strict_mode:\n",
    "        stream = UpperCaseCharStream(stream)\n",
    "    if early_bail:\n",
    "        lexer = EarlyBailSqlLexer(stream)\n",
    "    else:\n",
    "        lexer = SqlBaseLexer(stream)\n",
    "    lexer.removeErrorListeners()\n",
    "    lexer.addErrorListener(ParseErrorListener())\n",
    "    token_stream = antlr4.CommonTokenStream(lexer)\n",
    "    parser = SqlBaseParser(token_stream)\n",
    "    parser.addParseListener(RemoveIdentifierBackticks())\n",
    "    parser.removeErrorListeners()\n",
    "    parser.addErrorListener(ParseErrorListener())\n",
    "    if early_bail:\n",
    "        parser._errHandler = ExplicitBailErrorStrategy()\n",
    "    return parser\n",
    "\n",
    "\n",
    "class SqlParsingError(Exception):\n",
    "    pass\n",
    "\n",
    "\n",
    "class SqlLexicalError(SqlParsingError):\n",
    "    pass\n",
    "\n",
    "\n",
    "class SqlSyntaxError(SqlParsingError):\n",
    "    pass"
   ]
  },
  {
   "cell_type": "code",
   "execution_count": 18,
   "id": "439763e0",
   "metadata": {},
   "outputs": [],
   "source": [
    "def string_to_ast(string, rule, *, strict_mode=False, debug=False, early_bail=False):\n",
    "    parser = build_string_parser(string, strict_mode, early_bail)\n",
    "    tree = getattr(parser, rule)()\n",
    "    if debug:\n",
    "        print_tree(tree, printer=logging.warning)\n",
    "    return tree\n",
    "\n",
    "\n",
    "def build_string_parser(string, strict_mode=False, early_bail=True):\n",
    "    string_as_stream = InputStream(string)\n",
    "    parser = build_parser(string_as_stream, strict_mode, early_bail)\n",
    "    return parser"
   ]
  },
  {
   "cell_type": "code",
   "execution_count": 19,
   "id": "dd15c1c3",
   "metadata": {},
   "outputs": [],
   "source": [
    "def parse_sql(string, rule, converter, debug=False):\n",
    "    tree = string_to_ast(string, rule, debug=debug)\n",
    "    return converter(tree) if converter else tree\n",
    "\n",
    "\n",
    "def parse_statement(string, converter=None, debug=False):\n",
    "    return parse_sql(string, 'singleStatement', converter, debug)\n"
   ]
  },
  {
   "cell_type": "code",
   "execution_count": 23,
   "id": "8d270be5",
   "metadata": {},
   "outputs": [],
   "source": [
    "def print_tree(tree, printer=print):\n",
    "    for line in tree_to_strings(tree, indent=0):\n",
    "        printer(line)\n",
    "\n",
    "\n",
    "def tree_to_strings(tree, indent=0):\n",
    "    symbol = (\"[\" + tree.symbol.text + \"]\") if hasattr(tree, \"symbol\") else \"\"\n",
    "    node_as_string = type(tree).__name__ + symbol\n",
    "    result = [\"|\" + \"-\" * indent + node_as_string]\n",
    "    if hasattr(tree, 'children') and tree.children:\n",
    "        for child in tree.children:\n",
    "            result += tree_to_strings(child, indent + 1)\n",
    "    return result\n"
   ]
  },
  {
   "cell_type": "code",
   "execution_count": 5,
   "id": "ad8868af",
   "metadata": {},
   "outputs": [],
   "source": [
    "input_string = \"SELECT * FROM table1\""
   ]
  },
  {
   "cell_type": "code",
   "execution_count": 24,
   "id": "582fa1be",
   "metadata": {},
   "outputs": [
    {
     "name": "stdout",
     "output_type": "stream",
     "text": [
      "ANTLR runtime and generated code versions disagree: 4.7.1!=4.9.3\n",
      "ANTLR runtime and generated code versions disagree: 4.7.1!=4.9.3\n"
     ]
    }
   ],
   "source": [
    "tree = parse_statement(input_string).children[0]"
   ]
  },
  {
   "cell_type": "code",
   "execution_count": 25,
   "id": "e601d2ba",
   "metadata": {},
   "outputs": [
    {
     "name": "stdout",
     "output_type": "stream",
     "text": [
      "|StatementDefaultContext\n",
      "|-QueryContext\n",
      "|--QueryTermDefaultContext\n",
      "|---QueryPrimaryDefaultContext\n",
      "|----RegularQuerySpecificationContext\n",
      "|-----SelectClauseContext\n",
      "|------TerminalNodeImpl[SELECT]\n",
      "|------NamedExpressionSeqContext\n",
      "|-------NamedExpressionContext\n",
      "|--------ExpressionContext\n",
      "|---------PredicatedContext\n",
      "|----------ValueExpressionDefaultContext\n",
      "|-----------StarContext\n",
      "|------------TerminalNodeImpl[*]\n",
      "|-----FromClauseContext\n",
      "|------TerminalNodeImpl[FROM]\n",
      "|------RelationContext\n",
      "|-------TableNameContext\n",
      "|--------MultipartIdentifierContext\n",
      "|---------ErrorCapturingIdentifierContext\n",
      "|----------IdentifierContext\n",
      "|-----------UnquotedIdentifierContext\n",
      "|------------TerminalNodeImpl[table1]\n",
      "|----------RealIdentContext\n",
      "|--------TableAliasContext\n",
      "|--QueryOrganizationContext\n"
     ]
    }
   ],
   "source": [
    "print_tree(tree)"
   ]
  },
  {
   "cell_type": "code",
   "execution_count": null,
   "id": "3ef03293",
   "metadata": {},
   "outputs": [],
   "source": []
  }
 ],
 "metadata": {
  "kernelspec": {
   "display_name": "Python 3 (ipykernel)",
   "language": "python",
   "name": "python3"
  },
  "language_info": {
   "codemirror_mode": {
    "name": "ipython",
    "version": 3
   },
   "file_extension": ".py",
   "mimetype": "text/x-python",
   "name": "python",
   "nbconvert_exporter": "python",
   "pygments_lexer": "ipython3",
   "version": "3.10.8"
  }
 },
 "nbformat": 4,
 "nbformat_minor": 5
}
