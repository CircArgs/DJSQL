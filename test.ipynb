{
 "cells": [
  {
   "cell_type": "code",
   "execution_count": 34,
   "id": "8ec0b1d6",
   "metadata": {},
   "outputs": [],
   "source": [
    "from djsql import parse_statement, print_tree"
   ]
  },
  {
   "cell_type": "code",
   "execution_count": 35,
   "id": "ad8868af",
   "metadata": {},
   "outputs": [],
   "source": [
    "input_string = \"SELECT * FROM table1 order by 1\""
   ]
  },
  {
   "cell_type": "code",
   "execution_count": 36,
   "id": "582fa1be",
   "metadata": {
    "scrolled": true
   },
   "outputs": [
    {
     "name": "stdout",
     "output_type": "stream",
     "text": [
      "ANTLR runtime and generated code versions disagree: 4.7.1!=4.9.3\n",
      "ANTLR runtime and generated code versions disagree: 4.7.1!=4.9.3\n"
     ]
    }
   ],
   "source": [
    "tree = parse_statement(input_string)"
   ]
  },
  {
   "cell_type": "code",
   "execution_count": 37,
   "id": "e601d2ba",
   "metadata": {},
   "outputs": [
    {
     "name": "stdout",
     "output_type": "stream",
     "text": [
      "|SingleStatementContext\n",
      "|-StatementDefaultContext\n",
      "|--QueryContext\n",
      "|---QueryTermDefaultContext\n",
      "|----QueryPrimaryDefaultContext\n",
      "|-----RegularQuerySpecificationContext\n",
      "|------SelectClauseContext\n",
      "|-------TerminalNodeImpl[SELECT]\n",
      "|-------NamedExpressionSeqContext\n",
      "|--------NamedExpressionContext\n",
      "|---------ExpressionContext\n",
      "|----------PredicatedContext\n",
      "|-----------ValueExpressionDefaultContext\n",
      "|------------StarContext\n",
      "|-------------TerminalNodeImpl[*]\n",
      "|------FromClauseContext\n",
      "|-------TerminalNodeImpl[FROM]\n",
      "|-------RelationContext\n",
      "|--------TableNameContext\n",
      "|---------MultipartIdentifierContext\n",
      "|----------ErrorCapturingIdentifierContext\n",
      "|-----------IdentifierContext\n",
      "|------------UnquotedIdentifierContext\n",
      "|-------------TerminalNodeImpl[table1]\n",
      "|-----------RealIdentContext\n",
      "|---------TableAliasContext\n",
      "|---QueryOrganizationContext\n",
      "|----TerminalNodeImpl[order]\n",
      "|----TerminalNodeImpl[by]\n",
      "|----SortItemContext\n",
      "|-----ExpressionContext\n",
      "|------PredicatedContext\n",
      "|-------ValueExpressionDefaultContext\n",
      "|--------ConstantDefaultContext\n",
      "|---------NumericLiteralContext\n",
      "|----------IntegerLiteralContext\n",
      "|-----------TerminalNodeImpl[1]\n",
      "|-TerminalNodeImpl[<EOF>]\n"
     ]
    }
   ],
   "source": [
    "print_tree(tree)"
   ]
  },
  {
   "cell_type": "code",
   "execution_count": null,
   "id": "3ef03293",
   "metadata": {},
   "outputs": [],
   "source": []
  }
 ],
 "metadata": {
  "kernelspec": {
   "display_name": "Python 3 (ipykernel)",
   "language": "python",
   "name": "python3"
  },
  "language_info": {
   "codemirror_mode": {
    "name": "ipython",
    "version": 3
   },
   "file_extension": ".py",
   "mimetype": "text/x-python",
   "name": "python",
   "nbconvert_exporter": "python",
   "pygments_lexer": "ipython3",
   "version": "3.10.8"
  }
 },
 "nbformat": 4,
 "nbformat_minor": 5
}
